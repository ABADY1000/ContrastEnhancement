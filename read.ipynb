{
 "cells": [
  {
   "cell_type": "code",
   "execution_count": 4,
   "metadata": {},
   "outputs": [],
   "source": [
    "import cv2\n",
    "import av\n"
   ]
  },
  {
   "cell_type": "code",
   "execution_count": null,
   "metadata": {},
   "outputs": [],
   "source": []
  },
  {
   "cell_type": "code",
   "execution_count": 2,
   "metadata": {},
   "outputs": [],
   "source": [
    "FILE0 = \"vids/Almesbar_face_20_08_2025_1.mkv\""
   ]
  },
  {
   "cell_type": "code",
   "execution_count": 3,
   "metadata": {},
   "outputs": [
    {
     "ename": "AttributeError",
     "evalue": "module 'av' has no attribute 'Container'",
     "output_type": "error",
     "traceback": [
      "\u001b[1;31m---------------------------------------------------------------------------\u001b[0m",
      "\u001b[1;31mAttributeError\u001b[0m                            Traceback (most recent call last)",
      "Cell \u001b[1;32mIn[3], line 3\u001b[0m\n\u001b[0;32m      1\u001b[0m \u001b[38;5;66;03m# cap = cv2.VideoCapture(FILE0)\u001b[39;00m\n\u001b[1;32m----> 3\u001b[0m cont \u001b[38;5;241m=\u001b[39m av\u001b[38;5;241m.\u001b[39mContainer(FILE0)\n\u001b[0;32m      5\u001b[0m \u001b[38;5;28mprint\u001b[39m(\u001b[38;5;124m\"\u001b[39m\u001b[38;5;124mStart\u001b[39m\u001b[38;5;124m\"\u001b[39m)\n",
      "\u001b[1;31mAttributeError\u001b[0m: module 'av' has no attribute 'Container'"
     ]
    }
   ],
   "source": [
    "# cap = cv2.VideoCapture(FILE0)\n",
    "\n",
    "cont = av.Container(FILE0)\n",
    "\n",
    "print(\"Start\")\n",
    "# while cap.isOpened():\n",
    "#     ret, frame = cap.read()\n",
    "\n",
    "\n",
    "#     if not ret:\n",
    "#         print(\"No valid video frame\")\n",
    "#         break\n",
    "\n",
    "#     print(f\"frame: shape({frame.shape}), type({type(frame[0][0][0])})\")\n",
    "#     print(frame)\n",
    "\n",
    "#     cv2.imshow('frame', frame)\n",
    "#     if cv2.waitKey(40) == ord(\"q\"):\n",
    "#         break\n",
    "\n",
    "# cap.release()\n",
    "# cv2.destroyAllWindows()"
   ]
  },
  {
   "cell_type": "code",
   "execution_count": null,
   "metadata": {},
   "outputs": [],
   "source": []
  }
 ],
 "metadata": {
  "kernelspec": {
   "display_name": "image-proc",
   "language": "python",
   "name": "python3"
  },
  "language_info": {
   "codemirror_mode": {
    "name": "ipython",
    "version": 3
   },
   "file_extension": ".py",
   "mimetype": "text/x-python",
   "name": "python",
   "nbconvert_exporter": "python",
   "pygments_lexer": "ipython3",
   "version": "3.11.10"
  }
 },
 "nbformat": 4,
 "nbformat_minor": 2
}
